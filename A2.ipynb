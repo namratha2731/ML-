{
  "nbformat": 4,
  "nbformat_minor": 0,
  "metadata": {
    "colab": {
      "provenance": [],
      "authorship_tag": "ABX9TyPTPAt9HKwF3L/+kG2q9DhZ"
    },
    "kernelspec": {
      "name": "python3",
      "display_name": "Python 3"
    },
    "language_info": {
      "name": "python"
    }
  },
  "cells": [
    {
      "cell_type": "markdown",
      "source": [
        "# Importing Libraries"
      ],
      "metadata": {
        "id": "ttZaG-4GpByc"
      }
    },
    {
      "cell_type": "code",
      "execution_count": 8,
      "metadata": {
        "id": "_15aqJyso3BY"
      },
      "outputs": [],
      "source": [
        "import numpy as np\n",
        "import pandas as pd"
      ]
    },
    {
      "cell_type": "markdown",
      "source": [
        "# Reading Data"
      ],
      "metadata": {
        "id": "rLt6W9oypIL-"
      }
    },
    {
      "cell_type": "code",
      "source": [
        "file_path = 'Lab Session Data (1).xlsx'\n",
        "sheet_name = 'Purchase data'\n",
        "\n",
        "df = pd.read_excel(file_path, sheet_name=sheet_name)"
      ],
      "metadata": {
        "id": "NORfYKropNSu"
      },
      "execution_count": 9,
      "outputs": []
    },
    {
      "cell_type": "markdown",
      "source": [
        "# Loading the Data and Printing the Results\n"
      ],
      "metadata": {
        "id": "cjTIDodGpRVb"
      }
    },
    {
      "cell_type": "code",
      "source": [
        "A = df.iloc[:, 1:4].values\n",
        "C = df.iloc[:, 4].values\n",
        "\n",
        "# Step 2: Calculate the pseudo-inverse of A\n",
        "pseudo_inverse_A = np.linalg.pinv(A)\n",
        "\n",
        "# Step 3: Calculate the model vector X\n",
        "X = pseudo_inverse_A @ C\n",
        "\n",
        "# Print the results\n",
        "print(f\"Model vector X (Cost of each product):\\n{X.flatten()}\")"
      ],
      "metadata": {
        "colab": {
          "base_uri": "https://localhost:8080/"
        },
        "id": "rx_HbeDkpd3y",
        "outputId": "556de1dc-c916-4b82-a3ba-4f463290b609"
      },
      "execution_count": 10,
      "outputs": [
        {
          "output_type": "stream",
          "name": "stdout",
          "text": [
            "Model vector X (Cost of each product):\n",
            "[ 1. 55. 18.]\n"
          ]
        }
      ]
    }
  ]
}