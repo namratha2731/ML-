{
  "nbformat": 4,
  "nbformat_minor": 0,
  "metadata": {
    "colab": {
      "provenance": [],
      "authorship_tag": "ABX9TyPMSgd8W7HGT5SZ31Ec1mZD"
    },
    "kernelspec": {
      "name": "python3",
      "display_name": "Python 3"
    },
    "language_info": {
      "name": "python"
    }
  },
  "cells": [
    {
      "cell_type": "markdown",
      "source": [
        "# Importing Libraries"
      ],
      "metadata": {
        "id": "ttZaG-4GpByc"
      }
    },
    {
      "cell_type": "code",
      "execution_count": 4,
      "metadata": {
        "id": "_15aqJyso3BY"
      },
      "outputs": [],
      "source": [
        "import numpy as np\n",
        "import pandas as pd"
      ]
    },
    {
      "cell_type": "markdown",
      "source": [
        "# Reading Data"
      ],
      "metadata": {
        "id": "rLt6W9oypIL-"
      }
    },
    {
      "cell_type": "code",
      "source": [
        "file_path = 'Lab Session Data (1).xlsx'\n",
        "sheet_name = 'Purchase data'\n",
        "\n",
        "df = pd.read_excel(file_path, sheet_name=sheet_name)"
      ],
      "metadata": {
        "id": "NORfYKropNSu"
      },
      "execution_count": 5,
      "outputs": []
    },
    {
      "cell_type": "markdown",
      "source": [
        "# Loading the Data and Printing the Results\n"
      ],
      "metadata": {
        "id": "cjTIDodGpRVb"
      }
    },
    {
      "cell_type": "code",
      "source": [
        "A = df.iloc[:, 1:4].values\n",
        "C = df.iloc[:, 4].values\n",
        "\n",
        "print(\"Dimensionality: \",A.shape[1])\n",
        "print(\"Vextors: \",A.shape[0])\n",
        "\n",
        "rank = np.linalg.matrix_rank(A)\n",
        "print(\"Rank: \", rank)\n",
        "\n",
        "pseudo = np.linalg.pinv(A)\n",
        "cost = np.dot(pseudo, C)\n",
        "print(\"Estimated Costs: \",cost)"
      ],
      "metadata": {
        "colab": {
          "base_uri": "https://localhost:8080/"
        },
        "id": "rx_HbeDkpd3y",
        "outputId": "2f0e11a6-005f-4fd1-cd12-39bedcac1cda"
      },
      "execution_count": 6,
      "outputs": [
        {
          "output_type": "stream",
          "name": "stdout",
          "text": [
            "Dimensionality:  3\n",
            "Vextors:  10\n",
            "Rank:  3\n",
            "Estimated Costs:  [ 1. 55. 18.]\n"
          ]
        }
      ]
    }
  ]
}