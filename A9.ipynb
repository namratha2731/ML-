{
  "nbformat": 4,
  "nbformat_minor": 0,
  "metadata": {
    "colab": {
      "provenance": [],
      "authorship_tag": "ABX9TyP21c0qP4/SsO4kO41gxMv4",
      "include_colab_link": true
    },
    "kernelspec": {
      "name": "python3",
      "display_name": "Python 3"
    },
    "language_info": {
      "name": "python"
    }
  },
  "cells": [
    {
      "cell_type": "markdown",
      "metadata": {
        "id": "view-in-github",
        "colab_type": "text"
      },
      "source": [
        "<a href=\"https://colab.research.google.com/github/namratha2731/ML-/blob/main/A9.ipynb\" target=\"_parent\"><img src=\"https://colab.research.google.com/assets/colab-badge.svg\" alt=\"Open In Colab\"/></a>"
      ]
    },
    {
      "cell_type": "markdown",
      "source": [
        "# Importing necessary libraries and reading the dataset"
      ],
      "metadata": {
        "id": "4Wu4o1pUv1RZ"
      }
    },
    {
      "cell_type": "code",
      "source": [
        "import pandas as pd\n",
        "import numpy as np\n",
        "from sklearn.preprocessing import LabelEncoder\n",
        "from sklearn.metrics.pairwise import cosine_similarity\n",
        "\n",
        "data=pd.read_excel(r\"Lab Session Data.xlsx\", sheet_name='thyroid0387_UCI')\n",
        "data.replace('?', np.nan, inplace=True)"
      ],
      "metadata": {
        "id": "unwdH7Djv8iL"
      },
      "execution_count": 4,
      "outputs": []
    },
    {
      "cell_type": "markdown",
      "source": [
        "# Calculating the Cosine Similarity"
      ],
      "metadata": {
        "id": "RpDjj28qwNwx"
      }
    },
    {
      "cell_type": "code",
      "execution_count": 5,
      "metadata": {
        "id": "S5J44EtHvoqa"
      },
      "outputs": [],
      "source": [
        "label_encoders = {}\n",
        "for column in data.select_dtypes(include=['object']).columns:\n",
        "    if data[column].isnull().sum() > 0:\n",
        "        data[column].fillna(data[column].mode()[0], inplace=True)\n",
        "    le = LabelEncoder()\n",
        "    data[column] = le.fit_transform(data[column])\n",
        "    label_encoders[column] = le\n",
        "\n",
        "    for column in data.select_dtypes(include=[np.number]).columns:\n",
        "        data[column].fillna(data[column].mean(), inplace=True)\n",
        "\n",
        "    v1 = data.iloc[0].values.reshape(1, -1)\n",
        "v2 = data.iloc[1].values.reshape(1, -1)\n",
        "\n",
        "\n",
        "cos_sim = cosine_similarity(v1, v2)[0][0]"
      ]
    },
    {
      "cell_type": "markdown",
      "source": [
        "# Printing the Cosine Similarity"
      ],
      "metadata": {
        "id": "W0qY_2G-vqvF"
      }
    },
    {
      "cell_type": "code",
      "source": [
        "print(\"Cosine Similarity:\", cos_sim)"
      ],
      "metadata": {
        "colab": {
          "base_uri": "https://localhost:8080/"
        },
        "id": "AFGA0v9svucJ",
        "outputId": "b38ca044-4bef-4fc7-c283-60f5207edba6"
      },
      "execution_count": 6,
      "outputs": [
        {
          "output_type": "stream",
          "name": "stdout",
          "text": [
            "Cosine Similarity: 0.9999999999999998\n"
          ]
        }
      ]
    }
  ]
}