{
  "nbformat": 4,
  "nbformat_minor": 0,
  "metadata": {
    "colab": {
      "provenance": [],
      "authorship_tag": "ABX9TyO4Tku8zzB/rXQsqznVagfi"
    },
    "kernelspec": {
      "name": "python3",
      "display_name": "Python 3"
    },
    "language_info": {
      "name": "python"
    }
  },
  "cells": [
    {
      "cell_type": "markdown",
      "source": [
        "# Importing Libraries\n"
      ],
      "metadata": {
        "id": "opUgn0qLg_0p"
      }
    },
    {
      "cell_type": "code",
      "execution_count": 42,
      "metadata": {
        "id": "lYuNT02YgRJy"
      },
      "outputs": [],
      "source": [
        "import numpy as np\n",
        "import pandas as pd\n",
        "import seaborn as sns\n",
        "from sklearn.preprocessing import LabelEncoder, OneHotEncoder"
      ]
    },
    {
      "cell_type": "markdown",
      "source": [
        "# Defining Functions\n"
      ],
      "metadata": {
        "id": "tuRSxP78g1kQ"
      }
    },
    {
      "cell_type": "code",
      "source": [
        "def load_data(file_path, sheet_name):\n",
        "    \"\"\"Load data from an Excel file and replace '?' with NaN.\"\"\"\n",
        "    data = pd.read_excel(file_path, sheet_name=sheet_name, na_values='?')\n",
        "    return data\n",
        "\n",
        "def check_missing_values(data):\n",
        "    \"\"\"Check for missing values in each attribute and print the number of missing values.\"\"\"\n",
        "    missing_values = data.isna().sum()\n",
        "    return missing_values\n",
        "\n",
        "def study_data_types(data):\n",
        "    \"\"\"Study data types and associated values for each attribute.\"\"\"\n",
        "    data_types = data.dtypes\n",
        "    classified_types = {}\n",
        "    for col, dtype in data_types.items():\n",
        "        if pd.api.types.is_numeric_dtype(dtype):\n",
        "            classified_types[col] = 'Numeric'\n",
        "        else:\n",
        "            classified_types[col] = 'Nominal'\n",
        "    return classified_types\n",
        "\n",
        "def identify_encoding_schemes(data):\n",
        "    \"\"\"Identify encoding schemes for categorical attributes.\"\"\"\n",
        "    categorical_cols = data.select_dtypes(include=['object']).columns\n",
        "    nominal_cols = []\n",
        "    ordinal_cols = []\n",
        "\n",
        "    for col in categorical_cols:\n",
        "        unique_vals = data[col].nunique()\n",
        "        if unique_vals <= 5:  # Assuming ordinal columns have 10 or fewer unique values\n",
        "            ordinal_cols.append(col)\n",
        "        else:\n",
        "            nominal_cols.append(col)\n",
        "    return nominal_cols, ordinal_cols\n",
        "\n",
        "def study_numeric_data_range(data):\n",
        "    \"\"\"Study the data range for numeric variables.\"\"\"\n",
        "    numeric_data = data.select_dtypes(include=[np.number])\n",
        "    data_range = numeric_data.agg(['min', 'max'])\n",
        "    return data_range\n",
        "\n",
        "def detect_outliers(data):\n",
        "    \"\"\"Detect outliers in numeric data.\"\"\"\n",
        "    numeric_data = data.select_dtypes(include=[np.number])\n",
        "    outliers = {}\n",
        "    for col in numeric_data.columns:\n",
        "        Q1 = numeric_data[col].quantile(0.25)\n",
        "        Q3 = numeric_data[col].quantile(0.75)\n",
        "        IQR = Q3 - Q1\n",
        "        outliers[col] = ((numeric_data[col] < (Q1 - 1.5 * IQR)) | (numeric_data[col] > (Q3 + 1.5 * IQR))).sum()\n",
        "    return outliers\n",
        "\n",
        "def calculate_mean_variance(data):\n",
        "    \"\"\"Calculate mean and variance (or standard deviation) for numeric variables.\"\"\"\n",
        "    numeric_data = data.select_dtypes(include=[np.number])\n",
        "    mean_values = numeric_data.mean()\n",
        "    variance_values = numeric_data.var()\n",
        "    return mean_values, variance_values"
      ],
      "metadata": {
        "id": "X71iPS2AhK8A"
      },
      "execution_count": 46,
      "outputs": []
    },
    {
      "cell_type": "markdown",
      "source": [
        "# Loading Database\n"
      ],
      "metadata": {
        "id": "mEdC2HjEhMOm"
      }
    },
    {
      "cell_type": "code",
      "source": [
        "file_path = '/content/Lab Session Data (1).xlsx'\n",
        "sheet_name = 'thyroid0387_UCI'\n",
        "\n",
        "# Load data\n",
        "data = load_data(file_path, sheet_name)"
      ],
      "metadata": {
        "id": "Bxzbg2JvhP1m"
      },
      "execution_count": 44,
      "outputs": []
    },
    {
      "cell_type": "markdown",
      "source": [
        "# Processing Data and Printing Results\n",
        "\n"
      ],
      "metadata": {
        "id": "-NJVO8AOhZDm"
      }
    },
    {
      "cell_type": "code",
      "source": [
        "data_types = study_data_types(data)\n",
        "print(\"Data types and associated values:\")\n",
        "for col, dtype in data_types.items():\n",
        "    if dtype == 'Numeric':\n",
        "        print(f\"{col}: Categorical\")\n",
        "    else:\n",
        "        print(f\"{col}: Nominal\")\n",
        "\n",
        "nominal_cols, ordinal_cols = identify_encoding_schemes(data)\n",
        "print(\"\\nEncoding Schemes:\")\n",
        "print(f\"Nominal columns: {nominal_cols}\")\n",
        "print(f\"Ordinal columns: {ordinal_cols}\")\n",
        "\n",
        "# Study numeric data range\n",
        "data_range = study_numeric_data_range(data)\n",
        "print(\"\\nData range for numeric variables:\")\n",
        "print(data_range)\n",
        "\n",
        "# Check for missing values\n",
        "missing_values = check_missing_values(data)\n",
        "print(\"\\nMissing values in each attribute:\")\n",
        "print(missing_values)\n",
        "\n",
        "# Detect outliers\n",
        "outliers = detect_outliers(data)\n",
        "print(\"\\nNumber of outliers detected in each numeric attribute:\")\n",
        "print(outliers)\n",
        "\n",
        "# Calculate mean and variance (or standard deviation) for numeric variables\n",
        "mean_values, variance_values = calculate_mean_variance(data)\n",
        "print(\"\\nMean values of numeric attributes:\")\n",
        "print(mean_values)\n",
        "print(\"\\nVariance values of numeric attributes:\")\n",
        "print(variance_values)"
      ],
      "metadata": {
        "colab": {
          "base_uri": "https://localhost:8080/"
        },
        "id": "AxL141YShd_o",
        "outputId": "da1be651-1809-46c0-cd12-353f4ba1bef4"
      },
      "execution_count": 47,
      "outputs": [
        {
          "output_type": "stream",
          "name": "stdout",
          "text": [
            "Data types and associated values:\n",
            "Record ID: Categorical\n",
            "age: Categorical\n",
            "sex: Nominal\n",
            "on thyroxine: Nominal\n",
            "query on thyroxine: Nominal\n",
            "on antithyroid medication: Nominal\n",
            "sick: Nominal\n",
            "pregnant: Nominal\n",
            "thyroid surgery: Nominal\n",
            "I131 treatment: Nominal\n",
            "query hypothyroid: Nominal\n",
            "query hyperthyroid: Nominal\n",
            "lithium: Nominal\n",
            "goitre: Nominal\n",
            "tumor: Nominal\n",
            "hypopituitary: Nominal\n",
            "psych: Nominal\n",
            "TSH measured: Nominal\n",
            "TSH: Categorical\n",
            "T3 measured: Nominal\n",
            "T3: Categorical\n",
            "TT4 measured: Nominal\n",
            "TT4: Categorical\n",
            "T4U measured: Nominal\n",
            "T4U: Categorical\n",
            "FTI measured: Nominal\n",
            "FTI: Categorical\n",
            "TBG measured: Nominal\n",
            "TBG: Categorical\n",
            "referral source: Nominal\n",
            "Condition: Nominal\n",
            "\n",
            "Encoding Schemes:\n",
            "Nominal columns: ['referral source', 'Condition']\n",
            "Ordinal columns: ['sex', 'on thyroxine', 'query on thyroxine', 'on antithyroid medication', 'sick', 'pregnant', 'thyroid surgery', 'I131 treatment', 'query hypothyroid', 'query hyperthyroid', 'lithium', 'goitre', 'tumor', 'hypopituitary', 'psych', 'TSH measured', 'T3 measured', 'TT4 measured', 'T4U measured', 'FTI measured', 'TBG measured']\n",
            "\n",
            "Data range for numeric variables:\n",
            "     Record ID    age      TSH     T3    TT4   T4U    FTI    TBG\n",
            "min  840801013      1    0.005   0.05    2.0  0.17    1.4    0.1\n",
            "max  870119035  65526  530.000  18.00  600.0  2.33  881.0  200.0\n",
            "\n",
            "Missing values in each attribute:\n",
            "Record ID                       0\n",
            "age                             0\n",
            "sex                           307\n",
            "on thyroxine                    0\n",
            "query on thyroxine              0\n",
            "on antithyroid medication       0\n",
            "sick                            0\n",
            "pregnant                        0\n",
            "thyroid surgery                 0\n",
            "I131 treatment                  0\n",
            "query hypothyroid               0\n",
            "query hyperthyroid              0\n",
            "lithium                         0\n",
            "goitre                          0\n",
            "tumor                           0\n",
            "hypopituitary                   0\n",
            "psych                           0\n",
            "TSH measured                    0\n",
            "TSH                           842\n",
            "T3 measured                     0\n",
            "T3                           2604\n",
            "TT4 measured                    0\n",
            "TT4                           442\n",
            "T4U measured                    0\n",
            "T4U                           809\n",
            "FTI measured                    0\n",
            "FTI                           802\n",
            "TBG measured                    0\n",
            "TBG                          8823\n",
            "referral source                 0\n",
            "Condition                       0\n",
            "dtype: int64\n",
            "\n",
            "Number of outliers detected in each numeric attribute:\n",
            "{'Record ID': 0, 'age': 4, 'TSH': 884, 'T3': 360, 'TT4': 422, 'T4U': 420, 'FTI': 501, 'TBG': 29}\n",
            "\n",
            "Mean values of numeric attributes:\n",
            "Record ID    8.529473e+08\n",
            "age          7.355582e+01\n",
            "TSH          5.218403e+00\n",
            "T3           1.970629e+00\n",
            "TT4          1.087003e+02\n",
            "T4U          9.760557e-01\n",
            "FTI          1.136407e+02\n",
            "TBG          2.987006e+01\n",
            "dtype: float64\n",
            "\n",
            "Variance values of numeric attributes:\n",
            "Record ID    5.748625e+13\n",
            "age          1.401801e+06\n",
            "TSH          5.848662e+02\n",
            "T3           7.877962e-01\n",
            "TT4          1.407951e+03\n",
            "T4U          4.014431e-02\n",
            "FTI          1.726540e+03\n",
            "TBG          4.443876e+02\n",
            "dtype: float64\n"
          ]
        }
      ]
    }
  ]
}