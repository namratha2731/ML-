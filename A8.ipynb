{
  "nbformat": 4,
  "nbformat_minor": 0,
  "metadata": {
    "colab": {
      "provenance": [],
      "authorship_tag": "ABX9TyNfeEW/yk2GJBFv4gEN3tDN",
      "include_colab_link": true
    },
    "kernelspec": {
      "name": "python3",
      "display_name": "Python 3"
    },
    "language_info": {
      "name": "python"
    }
  },
  "cells": [
    {
      "cell_type": "markdown",
      "metadata": {
        "id": "view-in-github",
        "colab_type": "text"
      },
      "source": [
        "<a href=\"https://colab.research.google.com/github/namratha2731/ML-/blob/main/A8.ipynb\" target=\"_parent\"><img src=\"https://colab.research.google.com/assets/colab-badge.svg\" alt=\"Open In Colab\"/></a>"
      ]
    },
    {
      "cell_type": "markdown",
      "source": [
        "# Importing necessary libraries and reading the dataset"
      ],
      "metadata": {
        "id": "4Wu4o1pUv1RZ"
      }
    },
    {
      "cell_type": "code",
      "source": [
        "import pandas as pd\n",
        "import numpy as np\n",
        "\n",
        "data=pd.read_excel(r\"Lab Session Data.xlsx\", sheet_name='thyroid0387_UCI')\n",
        "data.replace('?', np.nan, inplace=True)"
      ],
      "metadata": {
        "id": "unwdH7Djv8iL"
      },
      "execution_count": 5,
      "outputs": []
    },
    {
      "cell_type": "markdown",
      "source": [
        "# Finding the similarity measure and displaying the output"
      ],
      "metadata": {
        "id": "RpDjj28qwNwx"
      }
    },
    {
      "cell_type": "code",
      "execution_count": 6,
      "metadata": {
        "colab": {
          "base_uri": "https://localhost:8080/"
        },
        "id": "S5J44EtHvoqa",
        "outputId": "0e6891cf-318f-4b2e-a1f9-c512889e8bd7"
      },
      "outputs": [
        {
          "output_type": "stream",
          "name": "stdout",
          "text": [
            "For thyroid sheet\n",
            "Jaccard Coefficient (JC): 0.25\n",
            "Simple Matching Coefficient (SMC): 0.8571428571428571\n",
            "For marketing sheet\n",
            "Jaccard Coefficient (JC): 0.0\n",
            "Simple Matching Coefficient (SMC): 0.8571428571428571\n"
          ]
        }
      ],
      "source": [
        "print(\"For thyroid sheet\")\n",
        "binary_cols = [col for col in data.columns if set(data[col].dropna().unique()) <= {'t', 'f'}]\n",
        "binary_cols += [col for col in data.columns if set(data[col].dropna().unique()) <= {'M', 'F'}]\n",
        "\n",
        "data[binary_cols] = data[binary_cols].replace({'t': 1, 'f': 0, 'M': 1, 'F': 0})\n",
        "\n",
        "v1 = data.loc[0, binary_cols].astype(int)\n",
        "v2 = data.loc[1, binary_cols].astype(int)\n",
        "\n",
        "\n",
        "f11 = np.sum((v1 == 1) & (v2 == 1))\n",
        "f00 = np.sum((v1 == 0) & (v2 == 0))\n",
        "f10 = np.sum((v1 == 1) & (v2 == 0))\n",
        "f01 = np.sum((v1 == 0) & (v2 == 1))\n",
        "\n",
        "jc = f11 / (f01 + f10 + f11)\n",
        "smc = (f11 + f00) / (f00 + f01 + f10 + f11)\n",
        "\n",
        "print(\"Jaccard Coefficient (JC):\", jc)\n",
        "print(\"Simple Matching Coefficient (SMC):\", smc)\n",
        "\n",
        "data=pd.read_excel(r\"Lab Session Data.xlsx\", sheet_name='marketing_campaign')\n",
        "data.replace('?', np.nan, inplace=True)\n",
        "print(\"For marketing sheet\")\n",
        "\n",
        "binary_cols = [col for col in data.columns if set(data[col].dropna().unique()) <= {0, 1}]\n",
        "\n",
        "\n",
        "data[binary_cols] = data[binary_cols]\n",
        "\n",
        "v1 = data.loc[0, binary_cols].astype(int)\n",
        "v2 = data.loc[1, binary_cols].astype(int)\n",
        "\n",
        "\n",
        "f11 = np.sum((v1 == 1) & (v2 == 1))\n",
        "f00 = np.sum((v1 == 0) & (v2 == 0))\n",
        "f10 = np.sum((v1 == 1) & (v2 == 0))\n",
        "f01 = np.sum((v1 == 0) & (v2 == 1))\n",
        "\n",
        "jc = f11 / (f01 + f10 + f11)\n",
        "smc = (f11 + f00) / (f00 + f01 + f10 + f11)\n",
        "\n",
        "print(\"Jaccard Coefficient (JC):\", jc)\n",
        "print(\"Simple Matching Coefficient (SMC):\", smc)"
      ]
    }
  ]
}