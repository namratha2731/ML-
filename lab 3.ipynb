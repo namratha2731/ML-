{
 "cells": [
  {
   "cell_type": "code",
   "execution_count": 1,
   "metadata": {},
   "outputs": [
    {
     "name": "stdout",
     "output_type": "stream",
     "text": [
      "                0           1           2            3           4  \\\n",
      "0     38687.88477  192.737565  188.366005  2348.285240  188.609889   \n",
      "1     29532.98806  -54.124623  -22.492524  1648.326090   35.160362   \n",
      "2     29511.41174  -54.495937  -25.026162  1658.645198   34.814464   \n",
      "3     29060.40637  -19.466804  -11.668273  1487.612245    7.675333   \n",
      "4     29039.93589  -19.725400   -9.218980  1497.054471    8.947552   \n",
      "...           ...         ...         ...          ...         ...   \n",
      "2245  34590.67425  -90.481178  421.895545  2269.474748  107.710202   \n",
      "2246  34463.79965  -75.135670  422.035399  2045.071565 -139.594897   \n",
      "2247  33276.41490  346.619982   43.823796  1314.651432   10.557620   \n",
      "2248  33278.26695  344.970914   44.197445  1312.348411   17.356769   \n",
      "2249  33006.65196  329.119591   48.862411   975.010421   24.384097   \n",
      "\n",
      "                5           6           7           8           9  ...  \\\n",
      "0     3359.777672 -454.999177 -201.722600  -42.369585 -277.176688  ...   \n",
      "1     1980.716201  144.818556   38.937042   56.479929   79.150981  ...   \n",
      "2     2008.855279  145.774409   42.363949   56.631487   84.338212  ...   \n",
      "3     1788.287900   49.023922   24.901637   47.767988   42.011626  ...   \n",
      "4     1815.189691   49.680814   22.071049   48.720409   37.361647  ...   \n",
      "...           ...         ...         ...         ...         ...  ...   \n",
      "2245  2668.551550  142.712956 -342.353042   33.714659 -940.227697  ...   \n",
      "2246  2546.697810  112.253709 -347.652005   11.001316 -934.795429  ...   \n",
      "2247  1234.860466 -827.112407  -45.102951 -366.540637 -128.503617  ...   \n",
      "2248  1231.482676 -823.766550  -53.524959 -364.266173 -129.244004  ...   \n",
      "2249   918.119017 -795.782455  -57.850154 -346.178560 -135.473582  ...   \n",
      "\n",
      "             187         188         189         190         191         192  \\\n",
      "0     225.163042  375.848590  -25.502103 -323.360801  -37.705123 -210.361583   \n",
      "1    -110.815428 -112.520155   80.464341   62.949615  -41.839087   35.049056   \n",
      "2    -111.628888 -113.504989   80.598537   64.218283  -42.996801   35.926709   \n",
      "3      -5.242054  -79.615224  165.018166  177.905061  -50.329188   88.189776   \n",
      "4      -5.661566  -82.903805  166.929649  179.234546  -53.045528   88.144964   \n",
      "...          ...         ...         ...         ...         ...         ...   \n",
      "2245  391.219466  -98.648267   86.227296 -375.903540  287.882640 -316.402536   \n",
      "2246  380.185391  -69.445833   76.263640 -383.165396  302.384031 -329.576874   \n",
      "2247 -447.309822  -62.797378 -297.150634  222.234489   35.249477  127.867278   \n",
      "2248 -426.781184  -73.880082 -268.764091  188.648206   52.127368  117.002736   \n",
      "2249 -589.237922 -303.929687 -482.849513  170.796748   39.458442   71.944695   \n",
      "\n",
      "             193         194         195  LABEL  \n",
      "0    -107.039989 -180.598400 -151.319809   3333  \n",
      "1     -90.838441   81.998960  -92.591774   3333  \n",
      "2     -94.681206   82.389334  -98.420772   3333  \n",
      "3     -56.963265  -63.527378   14.576799   3333  \n",
      "4     -60.471382  -63.239210   13.008128   3333  \n",
      "...          ...         ...         ...    ...  \n",
      "2245  572.251239 -148.584321  195.160357   3454  \n",
      "2246  564.414974 -181.641673  178.081840   3454  \n",
      "2247  -46.105235  -98.898611  -90.071387   3454  \n",
      "2248  -25.738164 -106.915699 -103.507262   3454  \n",
      "2249  -48.437714 -130.480283 -103.201432   3454  \n",
      "\n",
      "[2250 rows x 197 columns]\n"
     ]
    }
   ],
   "source": [
    "import pandas as pd\n",
    "import numpy as np\n",
    "data=pd.read_csv(r'C:\\Users\\ROG\\Desktop\\SEM-5\\ML\\DCT_withoutduplicate (1).csv')\n",
    "print(data)\n"
   ]
  },
  {
   "cell_type": "code",
   "execution_count": 4,
   "metadata": {},
   "outputs": [
    {
     "ename": "NameError",
     "evalue": "name 'dataset' is not defined",
     "output_type": "error",
     "traceback": [
      "\u001b[1;31m---------------------------------------------------------------------------\u001b[0m",
      "\u001b[1;31mNameError\u001b[0m                                 Traceback (most recent call last)",
      "Cell \u001b[1;32mIn[4], line 4\u001b[0m\n\u001b[0;32m      1\u001b[0m \u001b[38;5;28;01mimport\u001b[39;00m \u001b[38;5;21;01mnumpy\u001b[39;00m \u001b[38;5;28;01mas\u001b[39;00m \u001b[38;5;21;01mnp\u001b[39;00m\n\u001b[0;32m      3\u001b[0m \u001b[38;5;66;03m# Check unique classes in the LABEL column\u001b[39;00m\n\u001b[1;32m----> 4\u001b[0m unique_classes \u001b[38;5;241m=\u001b[39m \u001b[43mdataset\u001b[49m[\u001b[38;5;124m'\u001b[39m\u001b[38;5;124mLABEL\u001b[39m\u001b[38;5;124m'\u001b[39m]\u001b[38;5;241m.\u001b[39munique()\n\u001b[0;32m      6\u001b[0m \u001b[38;5;66;03m# Ensure we have at least two distinct classes for comparison\u001b[39;00m\n\u001b[0;32m      7\u001b[0m \u001b[38;5;28;01mif\u001b[39;00m \u001b[38;5;28mlen\u001b[39m(unique_classes) \u001b[38;5;241m<\u001b[39m \u001b[38;5;241m2\u001b[39m:\n",
      "\u001b[1;31mNameError\u001b[0m: name 'dataset' is not defined"
     ]
    }
   ],
   "source": [
    "import numpy as np\n",
    "\n",
    "# Check unique classes in the LABEL column\n",
    "unique_classes = dataset['LABEL'].unique()\n",
    "\n",
    "# Ensure we have at least two distinct classes for comparison\n",
    "if len(unique_classes) < 2:\n",
    "    print(\"Error: The dataset only contains one class. Cannot compute interclass distances.\")\n",
    "else:\n",
    "    # Assuming the first two classes for demonstration\n",
    "    class1_label = unique_classes[0]\n",
    "    class2_label = unique_classes[1]\n",
    "\n",
    "    # Group data by LABEL and calculate mean and std\n",
    "    class1_data = dataset[dataset['LABEL'] == class1_label].iloc[:, :-1]\n",
    "    class2_data = dataset[dataset['LABEL'] == class2_label].iloc[:, :-1]\n",
    "\n",
    "    # Calculate centroids (mean vectors)\n",
    "    class1_centroid = np.mean(class1_data, axis=0)\n",
    "    class2_centroid = np.mean(class2_data, axis=0)\n",
    "\n",
    "    # Calculate spreads (standard deviation)\n",
    "    class1_spread = np.std(class1_data, axis=0)\n",
    "    class2_spread = np.std(class2_data, axis=0)\n",
    "\n",
    "    # Calculate Euclidean distance between centroids\n",
    "    distance_between_centroids = np.linalg.norm(class1_centroid - class2_centroid)\n",
    "\n",
    "    # Output the results\n",
    "    print(\"Distance between centroids:\", distance_between_centroids)\n",
    "    print(\"Class 1 spread:\", class1_spread)\n",
    "    print(\"Class 2 spread:\", class2_spread)\n",
    "\n"
   ]
  },
  {
   "cell_type": "code",
   "execution_count": null,
   "metadata": {},
   "outputs": [],
   "source": [
    "import matplotlib.pyplot as plt\n",
    "\n",
    "# Select a feature (e.g., feature 0)\n",
    "feature_data = dataset.iloc[:, 0]\n",
    "\n",
    "# Plot histogram\n",
    "plt.hist(feature_data, bins=30)\n",
    "plt.title(\"Histogram of Feature 0\")\n",
    "plt.xlabel(\"Value\")\n",
    "plt.ylabel(\"Frequency\")\n",
    "plt.show()\n",
    "\n",
    "# Calculate mean and variance\n",
    "mean_feature = np.mean(feature_data)\n",
    "variance_feature = np.var(feature_data)\n",
    "\n",
    "mean_feature, variance_feature\n"
   ]
  },
  {
   "cell_type": "code",
   "execution_count": null,
   "metadata": {},
   "outputs": [],
   "source": [
    "from scipy.spatial import distance\n",
    "\n",
    "# Select two feature vectors\n",
    "vector1 = dataset.iloc[0, :-1].values\n",
    "vector2 = dataset.iloc[1, :-1].values\n",
    "\n",
    "# Calculate Minkowski distances for r from 1 to 10\n",
    "minkowski_distances = [distance.minkowski(vector1, vector2, r) for r in range(1, 11)]\n",
    "\n",
    "# Plot the distances\n",
    "plt.plot(range(1, 11), minkowski_distances, marker='o')\n",
    "plt.title(\"Minkowski Distance for r from 1 to 10\")\n",
    "plt.xlabel(\"r\")\n",
    "plt.ylabel(\"Distance\")\n",
    "plt.show()\n",
    "\n",
    "minkowski_distances\n"
   ]
  },
  {
   "cell_type": "code",
   "execution_count": null,
   "metadata": {},
   "outputs": [],
   "source": [
    "from sklearn.model_selection import train_test_split\n",
    "\n",
    "# Separate features and labels\n",
    "X = dataset.iloc[:, :-1]\n",
    "y = dataset['LABEL']\n",
    "\n",
    "# Perform train-test split\n",
    "X_train, X_test, y_train, y_test = train_test_split(X, y, test_size=0.3, random_state=42)\n",
    "\n",
    "X_train.shape, X_test.shape\n"
   ]
  },
  {
   "cell_type": "code",
   "execution_count": null,
   "metadata": {},
   "outputs": [],
   "source": [
    "from sklearn.neighbors import KNeighborsClassifier\n",
    "\n",
    "# Initialize kNN classifier\n",
    "knn = KNeighborsClassifier(n_neighbors=3)\n",
    "\n",
    "# Train the classifier\n",
    "knn.fit(X_train, y_train)\n"
   ]
  },
  {
   "cell_type": "code",
   "execution_count": null,
   "metadata": {},
   "outputs": [],
   "source": [
    "# Test the classifier\n",
    "accuracy = knn.score(X_test, y_test)\n",
    "\n",
    "accuracy\n"
   ]
  },
  {
   "cell_type": "code",
   "execution_count": null,
   "metadata": {},
   "outputs": [],
   "source": [
    "# Make predictions on test set\n",
    "predictions = knn.predict(X_test)\n",
    "\n",
    "predictions[:10]  # Show first 10 predictions\n"
   ]
  },
  {
   "cell_type": "code",
   "execution_count": null,
   "metadata": {},
   "outputs": [],
   "source": [
    "accuracies = []\n",
    "\n",
    "# Train and evaluate kNN for k = 1 to 11\n",
    "for k in range(1, 12):\n",
    "    knn = KNeighborsClassifier(n_neighbors=k)\n",
    "    knn.fit(X_train, y_train)\n",
    "    accuracies.append(knn.score(X_test, y_test))\n",
    "\n",
    "# Plot accuracy vs k\n",
    "plt.plot(range(1, 12), accuracies, marker='o')\n",
    "plt.title(\"Accuracy vs k\")\n",
    "plt.xlabel(\"k\")\n",
    "plt.ylabel(\"Accuracy\")\n",
    "plt.show()\n"
   ]
  },
  {
   "cell_type": "code",
   "execution_count": 2,
   "metadata": {},
   "outputs": [
    {
     "ename": "ModuleNotFoundError",
     "evalue": "No module named 'sklearn'",
     "output_type": "error",
     "traceback": [
      "\u001b[1;31m---------------------------------------------------------------------------\u001b[0m",
      "\u001b[1;31mModuleNotFoundError\u001b[0m                       Traceback (most recent call last)",
      "Cell \u001b[1;32mIn[2], line 1\u001b[0m\n\u001b[1;32m----> 1\u001b[0m \u001b[38;5;28;01mfrom\u001b[39;00m \u001b[38;5;21;01msklearn\u001b[39;00m\u001b[38;5;21;01m.\u001b[39;00m\u001b[38;5;21;01mmetrics\u001b[39;00m \u001b[38;5;28;01mimport\u001b[39;00m confusion_matrix, classification_report\n\u001b[0;32m      3\u001b[0m \u001b[38;5;66;03m# Confusion matrix\u001b[39;00m\n\u001b[0;32m      4\u001b[0m conf_matrix \u001b[38;5;241m=\u001b[39m confusion_matrix(y_test, predictions)\n",
      "\u001b[1;31mModuleNotFoundError\u001b[0m: No module named 'sklearn'"
     ]
    }
   ],
   "source": [
    "from sklearn.metrics import confusion_matrix, classification_report\n",
    "\n",
    "# Confusion matrix\n",
    "conf_matrix = confusion_matrix(y_test, predictions)\n",
    "\n",
    "# Classification report (includes precision, recall, F1-score)\n",
    "class_report = classification_report(y_test, predictions)\n",
    "\n",
    "conf_matrix, class_report\n"
   ]
  }
 ],
 "metadata": {
  "kernelspec": {
   "display_name": "Python 3",
   "language": "python",
   "name": "python3"
  },
  "language_info": {
   "codemirror_mode": {
    "name": "ipython",
    "version": 3
   },
   "file_extension": ".py",
   "mimetype": "text/x-python",
   "name": "python",
   "nbconvert_exporter": "python",
   "pygments_lexer": "ipython3",
   "version": "3.12.4"
  }
 },
 "nbformat": 4,
 "nbformat_minor": 2
}
