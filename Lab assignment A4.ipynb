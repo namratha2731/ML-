{
  "nbformat": 4,
  "nbformat_minor": 0,
  "metadata": {
    "colab": {
      "provenance": [],
      "authorship_tag": "ABX9TyMqChcMwAxEvZepDEmJHKFL",
      "include_colab_link": true
    },
    "kernelspec": {
      "name": "python3",
      "display_name": "Python 3"
    },
    "language_info": {
      "name": "python"
    }
  },
  "cells": [
    {
      "cell_type": "markdown",
      "metadata": {
        "id": "view-in-github",
        "colab_type": "text"
      },
      "source": [
        "<a href=\"https://colab.research.google.com/github/namratha2731/Python-assignment/blob/main/Lab%20assignment%20A4.ipynb\" target=\"_parent\"><img src=\"https://colab.research.google.com/assets/colab-badge.svg\" alt=\"Open In Colab\"/></a>"
      ]
    },
    {
      "cell_type": "code",
      "source": [
        "!pip install numpy pandas openpyxl"
      ],
      "metadata": {
        "colab": {
          "base_uri": "https://localhost:8080/"
        },
        "collapsed": true,
        "id": "nvgamyJdogKy",
        "outputId": "0d4a4a96-d5c7-4fa0-850b-4fcc2918cb5a"
      },
      "execution_count": 39,
      "outputs": [
        {
          "output_type": "stream",
          "name": "stdout",
          "text": [
            "Requirement already satisfied: numpy in /usr/local/lib/python3.10/dist-packages (1.26.4)\n",
            "Requirement already satisfied: pandas in /usr/local/lib/python3.10/dist-packages (2.1.4)\n",
            "Requirement already satisfied: openpyxl in /usr/local/lib/python3.10/dist-packages (3.1.5)\n",
            "Requirement already satisfied: python-dateutil>=2.8.2 in /usr/local/lib/python3.10/dist-packages (from pandas) (2.8.2)\n",
            "Requirement already satisfied: pytz>=2020.1 in /usr/local/lib/python3.10/dist-packages (from pandas) (2024.1)\n",
            "Requirement already satisfied: tzdata>=2022.1 in /usr/local/lib/python3.10/dist-packages (from pandas) (2024.1)\n",
            "Requirement already satisfied: et-xmlfile in /usr/local/lib/python3.10/dist-packages (from openpyxl) (1.1.0)\n",
            "Requirement already satisfied: six>=1.5 in /usr/local/lib/python3.10/dist-packages (from python-dateutil>=2.8.2->pandas) (1.16.0)\n"
          ]
        }
      ]
    },
    {
      "cell_type": "markdown",
      "source": [
        "# Importing Libraries\n"
      ],
      "metadata": {
        "id": "opUgn0qLg_0p"
      }
    },
    {
      "cell_type": "code",
      "execution_count": 40,
      "metadata": {
        "id": "lYuNT02YgRJy"
      },
      "outputs": [],
      "source": [
        "import numpy as np\n",
        "import pandas as pd\n",
        "from google.colab import drive\n",
        "import statistics\n",
        "import matplotlib.pyplot as plt\n",
        "import seaborn as sns"
      ]
    },
    {
      "cell_type": "markdown",
      "source": [
        "# Defining Functions\n"
      ],
      "metadata": {
        "id": "tuRSxP78g1kQ"
      }
    },
    {
      "cell_type": "code",
      "source": [
        "def load_data(file_path, sheet_name):\n",
        "    \"\"\"Load data from an Excel file.\"\"\"\n",
        "    data = pd.read_excel(file_path, sheet_name=sheet_name)\n",
        "    return data\n",
        "\n",
        "def calculate_mean_variance(data, column):\n",
        "    \"\"\"Calculate mean and variance of a given column.\"\"\"\n",
        "    mean_value = statistics.mean(data[column])\n",
        "    variance_value = statistics.variance(data[column])\n",
        "    return mean_value, variance_value\n",
        "\n",
        "def select_data_by_day(data, column, day_name):\n",
        "    \"\"\"Select data for a specific day of the week.\"\"\"\n",
        "    day_data = data[data['Date'].dt.day_name() == day_name][column]\n",
        "    return day_data\n",
        "\n",
        "def select_data_by_month(data, column, month):\n",
        "    \"\"\"Select data for a specific month.\"\"\"\n",
        "    month_data = data[data['Date'].dt.month == month][column]\n",
        "    return month_data\n",
        "\n",
        "def calculate_probability(data, column, condition):\n",
        "    \"\"\"Calculate probability based on a condition.\"\"\"\n",
        "    total_count = len(data)\n",
        "    condition_count = len(data[data[column].apply(condition)])\n",
        "    probability = condition_count / total_count\n",
        "    return probability\n",
        "\n",
        "def calculate_conditional_probability(data, column, condition, given_condition):\n",
        "    \"\"\"Calculate conditional probability.\"\"\"\n",
        "    given_condition_data = data[data['Date'].dt.day_name() == given_condition]\n",
        "    probability_given_condition = calculate_probability(given_condition_data, column, condition)\n",
        "    return probability_given_condition\n",
        "\n",
        "def plot_scatter(data, x_column, y_column):\n",
        "    \"\"\"Create a scatter plot.\"\"\"\n",
        "    plt.figure(figsize=(10, 6))\n",
        "    sns.scatterplot(x=x_column, y=y_column, data=data)\n",
        "    plt.xlabel(x_column)\n",
        "    plt.ylabel(y_column)\n",
        "    plt.title(f\"Scatter Plot of {y_column} against {x_column}\")\n",
        "    plt.show()\n"
      ],
      "metadata": {
        "id": "X71iPS2AhK8A"
      },
      "execution_count": 41,
      "outputs": []
    },
    {
      "cell_type": "markdown",
      "source": [
        "# Loading Database\n"
      ],
      "metadata": {
        "id": "mEdC2HjEhMOm"
      }
    },
    {
      "cell_type": "code",
      "source": [
        "file_path = '/content/Lab Session Data (1).xlsx'\n",
        "sheet_name = 'IRCTC Stock Price'\n",
        "\n",
        "# Load data\n",
        "data = load_data(file_path, sheet_name)\n",
        "\n",
        "# Convert 'Date' column to datetime format\n",
        "data['Date'] = pd.to_datetime(data['Date'])\n"
      ],
      "metadata": {
        "id": "Bxzbg2JvhP1m"
      },
      "execution_count": 45,
      "outputs": []
    },
    {
      "cell_type": "markdown",
      "source": [
        "# Processing Data and Performing Calculations\n"
      ],
      "metadata": {
        "id": "-NJVO8AOhZDm"
      }
    },
    {
      "cell_type": "code",
      "source": [
        "# Calculate mean and variance of 'Price' column\n",
        "price_mean, price_variance = calculate_mean_variance(data, 'Price')\n",
        "\n",
        "# Select price data for all Wednesdays and calculate sample mean\n",
        "wednesday_prices = select_data_by_day(data, 'Price', 'Wednesday')\n",
        "wednesday_mean = statistics.mean(wednesday_prices)\n",
        "\n",
        "# Select price data for the month of April and calculate sample mean\n",
        "april_prices = select_data_by_month(data, 'Price', 4)\n",
        "april_mean = statistics.mean(april_prices)\n",
        "\n",
        "# Find the probability of making a loss over the stock using 'Chg%' column\n",
        "loss_probability = calculate_probability(data, 'Chg%', lambda x: x < 0)\n",
        "\n",
        "# Calculate the probability of making a profit on Wednesday\n",
        "profit_wednesday_probability = calculate_conditional_probability(data, 'Chg%', lambda x: x > 0, 'Wednesday')\n",
        "\n",
        "# Calculate the conditional probability of making profit given that today is Wednesday\n",
        "conditional_profit_probability = calculate_conditional_probability(data, 'Chg%', lambda x: x > 0, 'Wednesday')\n"
      ],
      "metadata": {
        "id": "AxL141YShd_o"
      },
      "execution_count": 46,
      "outputs": []
    },
    {
      "cell_type": "markdown",
      "source": [
        "# Printing the results"
      ],
      "metadata": {
        "id": "2VMPbx0oheza"
      }
    },
    {
      "cell_type": "code",
      "source": [
        "print(f\"Mean of Price: {price_mean}\")\n",
        "print(f\"Variance of Price: {price_variance}\")\n",
        "print(f\"Mean of Price on Wednesdays: {wednesday_mean}\")\n",
        "print(f\"Mean of Price in April: {april_mean}\")\n",
        "print(f\"Probability of making a loss: {loss_probability}\")\n",
        "print(f\"Probability of making a profit on Wednesday: {profit_wednesday_probability}\")\n",
        "print(f\"Conditional probability of making a profit given that today is Wednesday: {conditional_profit_probability}\")\n"
      ],
      "metadata": {
        "colab": {
          "base_uri": "https://localhost:8080/"
        },
        "id": "uU6Qbi6ehkco",
        "outputId": "04599fa9-b80d-4971-8992-d5077dbd4ca8"
      },
      "execution_count": 47,
      "outputs": [
        {
          "output_type": "stream",
          "name": "stdout",
          "text": [
            "Mean of Price: 1560.663453815261\n",
            "Variance of Price: 58732.365352539186\n",
            "Mean of Price on Wednesdays: 1550.706\n",
            "Mean of Price in April: 1698.9526315789474\n",
            "Probability of making a loss: 0.4979919678714859\n",
            "Probability of making a profit on Wednesday: 0.42\n",
            "Conditional probability of making a profit given that today is Wednesday: 0.42\n"
          ]
        }
      ]
    }
  ]
}